{
 "cells": [
  {
   "cell_type": "code",
   "execution_count": 1,
   "id": "469dfbe7",
   "metadata": {},
   "outputs": [],
   "source": [
    "#import libraries\n",
    "import pandas as pd\n",
    "import numpy as np\n",
    "import re \n",
    "import string \n",
    "import nltk\n",
    "\n",
    "from nltk.corpus import stopwords \n",
    "from nltk.tokenize import word_tokenize \n",
    "from nltk.stem import WordNetLemmatizer\n",
    "from nltk.sentiment.vader import SentimentIntensityAnalyzer\n",
    "\n",
    "import textblob\n",
    "from textblob import TextBlob"
   ]
  },
  {
   "cell_type": "code",
   "execution_count": 2,
   "id": "fba1e456",
   "metadata": {},
   "outputs": [
    {
     "data": {
      "text/html": [
       "<div>\n",
       "<style scoped>\n",
       "    .dataframe tbody tr th:only-of-type {\n",
       "        vertical-align: middle;\n",
       "    }\n",
       "\n",
       "    .dataframe tbody tr th {\n",
       "        vertical-align: top;\n",
       "    }\n",
       "\n",
       "    .dataframe thead th {\n",
       "        text-align: right;\n",
       "    }\n",
       "</style>\n",
       "<table border=\"1\" class=\"dataframe\">\n",
       "  <thead>\n",
       "    <tr style=\"text-align: right;\">\n",
       "      <th></th>\n",
       "      <th>Unnamed: 0</th>\n",
       "      <th>title</th>\n",
       "      <th>review</th>\n",
       "      <th>rating</th>\n",
       "      <th>date</th>\n",
       "    </tr>\n",
       "  </thead>\n",
       "  <tbody>\n",
       "    <tr>\n",
       "      <th>0</th>\n",
       "      <td>0</td>\n",
       "      <td>A new standard has been set for fight scenes</td>\n",
       "      <td>Half of this review will be me gushing about t...</td>\n",
       "      <td>9/10</td>\n",
       "      <td>24 March 2023</td>\n",
       "    </tr>\n",
       "    <tr>\n",
       "      <th>1</th>\n",
       "      <td>1</td>\n",
       "      <td>Yeah</td>\n",
       "      <td>By now you know what to expect from a John Wic...</td>\n",
       "      <td>9/10</td>\n",
       "      <td>23 March 2023</td>\n",
       "    </tr>\n",
       "  </tbody>\n",
       "</table>\n",
       "</div>"
      ],
      "text/plain": [
       "   Unnamed: 0                                         title  \\\n",
       "0           0  A new standard has been set for fight scenes   \n",
       "1           1                                          Yeah   \n",
       "\n",
       "                                              review rating           date  \n",
       "0  Half of this review will be me gushing about t...   9/10  24 March 2023  \n",
       "1  By now you know what to expect from a John Wic...   9/10  23 March 2023  "
      ]
     },
     "execution_count": 2,
     "metadata": {},
     "output_type": "execute_result"
    }
   ],
   "source": [
    "#load the data\n",
    "John_wick_data = pd.read_csv(\"John_Wick_4\")\n",
    "John_wick_data.head(2)"
   ]
  },
  {
   "cell_type": "markdown",
   "id": "63685ebb",
   "metadata": {},
   "source": [
    "## Data Overview"
   ]
  },
  {
   "cell_type": "code",
   "execution_count": 3,
   "id": "d7a03d6b",
   "metadata": {},
   "outputs": [
    {
     "data": {
      "text/plain": [
       "(866, 5)"
      ]
     },
     "execution_count": 3,
     "metadata": {},
     "output_type": "execute_result"
    }
   ],
   "source": [
    "#shape of the data\n",
    "John_wick_data.shape"
   ]
  },
  {
   "cell_type": "code",
   "execution_count": 4,
   "id": "e86b3d21",
   "metadata": {},
   "outputs": [
    {
     "name": "stdout",
     "output_type": "stream",
     "text": [
      "<class 'pandas.core.frame.DataFrame'>\n",
      "RangeIndex: 866 entries, 0 to 865\n",
      "Data columns (total 5 columns):\n",
      " #   Column      Non-Null Count  Dtype \n",
      "---  ------      --------------  ----- \n",
      " 0   Unnamed: 0  866 non-null    int64 \n",
      " 1   title       866 non-null    object\n",
      " 2   review      866 non-null    object\n",
      " 3   rating      866 non-null    object\n",
      " 4   date        866 non-null    object\n",
      "dtypes: int64(1), object(4)\n",
      "memory usage: 34.0+ KB\n"
     ]
    }
   ],
   "source": [
    "#checking the data makeup\n",
    "John_wick_data.info()"
   ]
  },
  {
   "cell_type": "code",
   "execution_count": 5,
   "id": "de090c15",
   "metadata": {},
   "outputs": [
    {
     "data": {
      "text/plain": [
       "Unnamed: 0    0\n",
       "title         0\n",
       "review        0\n",
       "rating        0\n",
       "date          0\n",
       "dtype: int64"
      ]
     },
     "execution_count": 5,
     "metadata": {},
     "output_type": "execute_result"
    }
   ],
   "source": [
    "#checking for missing values\n",
    "John_wick_data.isnull().sum()"
   ]
  },
  {
   "cell_type": "code",
   "execution_count": 6,
   "id": "816757c5",
   "metadata": {},
   "outputs": [
    {
     "data": {
      "text/plain": [
       "0"
      ]
     },
     "execution_count": 6,
     "metadata": {},
     "output_type": "execute_result"
    }
   ],
   "source": [
    "#checking for duplicates\n",
    "John_wick_data.duplicated().sum()"
   ]
  },
  {
   "cell_type": "code",
   "execution_count": 7,
   "id": "510d2ab7",
   "metadata": {},
   "outputs": [
    {
     "data": {
      "text/plain": [
       "Unnamed: 0    866\n",
       "title         859\n",
       "review        866\n",
       "rating         10\n",
       "date           42\n",
       "dtype: int64"
      ]
     },
     "execution_count": 7,
     "metadata": {},
     "output_type": "execute_result"
    }
   ],
   "source": [
    "#checking for unique dataset\n",
    "John_wick_data.nunique()"
   ]
  },
  {
   "cell_type": "markdown",
   "id": "7aa9ec6d",
   "metadata": {},
   "source": [
    "## Data Cleaning"
   ]
  },
  {
   "cell_type": "code",
   "execution_count": 8,
   "id": "a5012613",
   "metadata": {},
   "outputs": [],
   "source": [
    "#drop the unnamed column\n",
    "John_wick_data.drop(columns = \"Unnamed: 0\", axis = 1, inplace = True)"
   ]
  },
  {
   "cell_type": "code",
   "execution_count": 9,
   "id": "449c15e0",
   "metadata": {},
   "outputs": [],
   "source": [
    "#remove the '/10' in the rating column\n",
    "John_wick_data['rating'] = John_wick_data['rating'].str.replace(\"/10\", \"\")"
   ]
  },
  {
   "cell_type": "code",
   "execution_count": 10,
   "id": "7dca68e5",
   "metadata": {},
   "outputs": [],
   "source": [
    "#convert the date and rating columns to numeric and date data type respectively\n",
    "John_wick_data['rating'] = pd.to_numeric(John_wick_data['rating'])\n",
    "\n",
    "John_wick_data['date'] = pd.to_datetime(John_wick_data['date'])"
   ]
  },
  {
   "cell_type": "code",
   "execution_count": 11,
   "id": "661fd377",
   "metadata": {},
   "outputs": [],
   "source": [
    "#Convert the review to lowercase\n",
    "John_wick_data['review'] = John_wick_data['review'].str.lower()"
   ]
  },
  {
   "cell_type": "markdown",
   "id": "89710f80",
   "metadata": {},
   "source": [
    "## Data Preprocessing"
   ]
  },
  {
   "cell_type": "code",
   "execution_count": 33,
   "id": "182f0b81",
   "metadata": {},
   "outputs": [
    {
     "name": "stderr",
     "output_type": "stream",
     "text": [
      "[nltk_data] Downloading package punkt to\n",
      "[nltk_data]     C:\\Users\\iwuan\\AppData\\Roaming\\nltk_data...\n",
      "[nltk_data]   Package punkt is already up-to-date!\n"
     ]
    }
   ],
   "source": [
    "nltk.download('punkt')\n",
    "\n",
    "#remove tags\n",
    "def remove_tags(review):\n",
    "    clean_review = re.sub('<.*?>', '', review)\n",
    "    return clean_review\n",
    "John_wick_data['review'] = John_wick_data['review'].apply(remove_tags)\n",
    "\n",
    "\n",
    "#remove repeating characters\n",
    "def remove_characters(review):\n",
    "    clean_review = re.sub(r'\\@\\w+|\\#\\w+|\\d+', '', review)\n",
    "    return clean_review\n",
    "John_wick_data['review'] = John_wick_data['review'].apply(remove_characters)\n",
    "\n",
    "\n",
    "#remove punctuations\n",
    "def remove_punctuation(review):\n",
    "    clean_review = review.translate(str.maketrans('', '', string.punctuation))\n",
    "    return clean_review\n",
    "John_wick_data['review'] = John_wick_data['review'].apply(remove_punctuation)\n",
    "\n",
    "\n",
    "#remove URL\n",
    "def remove_url(review):\n",
    "    clean_review = re.sub(r\"http\\S+|www\\S+|https\\S+\", '', review, flags = re.MULTILINE)\n",
    "    return clean_review\n",
    "John_wick_data['review'] = John_wick_data['review'].apply(remove_url)\n",
    "\n",
    "\n",
    "#tokenize the reviews\n",
    "def tokenize_rev(review):\n",
    "    clean_review_token = word_tokenize(review)\n",
    "    return clean_review_token\n",
    "John_wick_data['review'] = John_wick_data['review'].apply(tokenize_rev)"
   ]
  },
  {
   "cell_type": "code",
   "execution_count": 34,
   "id": "14db417c",
   "metadata": {},
   "outputs": [
    {
     "name": "stderr",
     "output_type": "stream",
     "text": [
      "[nltk_data] Downloading package stopwords to\n",
      "[nltk_data]     C:\\Users\\iwuan\\AppData\\Roaming\\nltk_data...\n",
      "[nltk_data]   Package stopwords is already up-to-date!\n"
     ]
    }
   ],
   "source": [
    "#remove stop words from the reviews\n",
    "nltk.download(\"stopwords\")\n",
    "stop_words = stopwords.words('english')\n",
    "\n",
    "def remove_stop_words(clean_review_token):\n",
    "    filtered_tokens = [word for word in clean_review_token if word not in stop_words]\n",
    "    return filtered_tokens\n",
    "John_wick_data['review'] = John_wick_data['review'].apply(remove_stop_words)"
   ]
  },
  {
   "cell_type": "code",
   "execution_count": 35,
   "id": "cbdf9fda",
   "metadata": {},
   "outputs": [
    {
     "name": "stderr",
     "output_type": "stream",
     "text": [
      "[nltk_data] Downloading package wordnet to\n",
      "[nltk_data]     C:\\Users\\iwuan\\AppData\\Roaming\\nltk_data...\n",
      "[nltk_data]   Package wordnet is already up-to-date!\n",
      "[nltk_data] Downloading package omw-1.4 to\n",
      "[nltk_data]     C:\\Users\\iwuan\\AppData\\Roaming\\nltk_data...\n",
      "[nltk_data]   Package omw-1.4 is already up-to-date!\n"
     ]
    }
   ],
   "source": [
    "#lemmatization of the tokens\n",
    "nltk.download('wordnet')\n",
    "nltk.download('omw-1.4')\n",
    "\n",
    "lemmatizer = WordNetLemmatizer()\n",
    "\n",
    "def lemmatize_tokens(clean_review_token):\n",
    "    lemmatized_tokens = [lemmatizer.lemmatize(word) for word in clean_review_token]\n",
    "    return lemmatized_tokens\n",
    "\n",
    "John_wick_data['review'] = John_wick_data['review'].apply(lemmatize_tokens)\n",
    "\n",
    "\n",
    "#Join the tokens back into text strings\n",
    "def join_tokens(clean_review_token):\n",
    "    revs = \" \".join(clean_review_token)\n",
    "    return revs\n",
    "John_wick_data['review'] = John_wick_data['review'].apply(join_tokens)"
   ]
  },
  {
   "cell_type": "markdown",
   "id": "74696a17",
   "metadata": {},
   "source": [
    "## Sentiment Analysis"
   ]
  },
  {
   "cell_type": "code",
   "execution_count": 36,
   "id": "2e0e2a4f",
   "metadata": {},
   "outputs": [],
   "source": [
    "def polarity(review):\n",
    "    return TextBlob(review).sentiment.polarity"
   ]
  },
  {
   "cell_type": "code",
   "execution_count": 37,
   "id": "42f2750a",
   "metadata": {},
   "outputs": [],
   "source": [
    "John_wick_data['polarity'] = John_wick_data['review'].apply(polarity)"
   ]
  },
  {
   "cell_type": "code",
   "execution_count": 38,
   "id": "8a2ec59b",
   "metadata": {},
   "outputs": [],
   "source": [
    "def SentimentTextBlob(polarity):\n",
    "    if polarity < 0:\n",
    "        return \"Negative\"\n",
    "    elif polarity == 0:\n",
    "        return \"Neutral\"\n",
    "    else:\n",
    "        return \"Positive\""
   ]
  },
  {
   "cell_type": "code",
   "execution_count": 39,
   "id": "bb78805b",
   "metadata": {},
   "outputs": [
    {
     "data": {
      "text/html": [
       "<div>\n",
       "<style scoped>\n",
       "    .dataframe tbody tr th:only-of-type {\n",
       "        vertical-align: middle;\n",
       "    }\n",
       "\n",
       "    .dataframe tbody tr th {\n",
       "        vertical-align: top;\n",
       "    }\n",
       "\n",
       "    .dataframe thead th {\n",
       "        text-align: right;\n",
       "    }\n",
       "</style>\n",
       "<table border=\"1\" class=\"dataframe\">\n",
       "  <thead>\n",
       "    <tr style=\"text-align: right;\">\n",
       "      <th></th>\n",
       "      <th>title</th>\n",
       "      <th>review</th>\n",
       "      <th>rating</th>\n",
       "      <th>date</th>\n",
       "      <th>polarity</th>\n",
       "      <th>Sentiment</th>\n",
       "    </tr>\n",
       "  </thead>\n",
       "  <tbody>\n",
       "    <tr>\n",
       "      <th>0</th>\n",
       "      <td>A new standard has been set for fight scenes</td>\n",
       "      <td>half review gushing action wow wow complete aw...</td>\n",
       "      <td>9</td>\n",
       "      <td>2023-03-24</td>\n",
       "      <td>0.191175</td>\n",
       "      <td>Positive</td>\n",
       "    </tr>\n",
       "    <tr>\n",
       "      <th>1</th>\n",
       "      <td>Yeah</td>\n",
       "      <td>know expect john wick movie thought franchise ...</td>\n",
       "      <td>9</td>\n",
       "      <td>2023-03-23</td>\n",
       "      <td>0.127741</td>\n",
       "      <td>Positive</td>\n",
       "    </tr>\n",
       "    <tr>\n",
       "      <th>2</th>\n",
       "      <td>Not Just The Best John Wick, But Possibly One ...</td>\n",
       "      <td>ever since original john wick franchise set st...</td>\n",
       "      <td>10</td>\n",
       "      <td>2023-03-17</td>\n",
       "      <td>0.164630</td>\n",
       "      <td>Positive</td>\n",
       "    </tr>\n",
       "  </tbody>\n",
       "</table>\n",
       "</div>"
      ],
      "text/plain": [
       "                                               title  \\\n",
       "0       A new standard has been set for fight scenes   \n",
       "1                                               Yeah   \n",
       "2  Not Just The Best John Wick, But Possibly One ...   \n",
       "\n",
       "                                              review  rating       date  \\\n",
       "0  half review gushing action wow wow complete aw...       9 2023-03-24   \n",
       "1  know expect john wick movie thought franchise ...       9 2023-03-23   \n",
       "2  ever since original john wick franchise set st...      10 2023-03-17   \n",
       "\n",
       "   polarity Sentiment  \n",
       "0  0.191175  Positive  \n",
       "1  0.127741  Positive  \n",
       "2  0.164630  Positive  "
      ]
     },
     "execution_count": 39,
     "metadata": {},
     "output_type": "execute_result"
    }
   ],
   "source": [
    "John_wick_data['Sentiment']=John_wick_data['polarity'].apply(SentimentTextBlob)\n",
    "John_wick_data.head(3)"
   ]
  },
  {
   "cell_type": "code",
   "execution_count": 40,
   "id": "dd3375c5",
   "metadata": {},
   "outputs": [
    {
     "data": {
      "text/html": [
       "<div>\n",
       "<style scoped>\n",
       "    .dataframe tbody tr th:only-of-type {\n",
       "        vertical-align: middle;\n",
       "    }\n",
       "\n",
       "    .dataframe tbody tr th {\n",
       "        vertical-align: top;\n",
       "    }\n",
       "\n",
       "    .dataframe thead th {\n",
       "        text-align: right;\n",
       "    }\n",
       "</style>\n",
       "<table border=\"1\" class=\"dataframe\">\n",
       "  <thead>\n",
       "    <tr style=\"text-align: right;\">\n",
       "      <th></th>\n",
       "      <th>Sentiment</th>\n",
       "      <th>polarity</th>\n",
       "    </tr>\n",
       "  </thead>\n",
       "  <tbody>\n",
       "    <tr>\n",
       "      <th>0</th>\n",
       "      <td>Negative</td>\n",
       "      <td>98</td>\n",
       "    </tr>\n",
       "    <tr>\n",
       "      <th>1</th>\n",
       "      <td>Neutral</td>\n",
       "      <td>3</td>\n",
       "    </tr>\n",
       "    <tr>\n",
       "      <th>2</th>\n",
       "      <td>Positive</td>\n",
       "      <td>765</td>\n",
       "    </tr>\n",
       "  </tbody>\n",
       "</table>\n",
       "</div>"
      ],
      "text/plain": [
       "  Sentiment  polarity\n",
       "0  Negative        98\n",
       "1   Neutral         3\n",
       "2  Positive       765"
      ]
     },
     "execution_count": 40,
     "metadata": {},
     "output_type": "execute_result"
    }
   ],
   "source": [
    "#Checking for the value count of sentiment column\n",
    "John_wick_data.groupby([\"Sentiment\"])[\"polarity\"].count().reset_index()"
   ]
  },
  {
   "cell_type": "code",
   "execution_count": 41,
   "id": "e1009ec4",
   "metadata": {},
   "outputs": [],
   "source": [
    "#Save the cleaned data to a CSV file for visualization\n",
    "John_wick_data.to_csv('cleaned_john_wick_data.csv', index=False)"
   ]
  },
  {
   "cell_type": "code",
   "execution_count": null,
   "id": "588c3fe1",
   "metadata": {},
   "outputs": [],
   "source": []
  }
 ],
 "metadata": {
  "kernelspec": {
   "display_name": "Python 3 (ipykernel)",
   "language": "python",
   "name": "python3"
  },
  "language_info": {
   "codemirror_mode": {
    "name": "ipython",
    "version": 3
   },
   "file_extension": ".py",
   "mimetype": "text/x-python",
   "name": "python",
   "nbconvert_exporter": "python",
   "pygments_lexer": "ipython3",
   "version": "3.9.12"
  }
 },
 "nbformat": 4,
 "nbformat_minor": 5
}
